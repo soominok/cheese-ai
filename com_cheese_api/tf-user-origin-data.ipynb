{
 "cells": [
  {
   "cell_type": "code",
   "execution_count": 2,
   "metadata": {},
   "outputs": [],
   "source": [
    "import pandas as pd\n",
    "\n",
    "users = pd.read_csv(\"resources/data/users.csv\")"
   ]
  },
  {
   "cell_type": "code",
   "execution_count": 3,
   "metadata": {},
   "outputs": [
    {
     "data": {
      "text/html": [
       "<div>\n",
       "<style scoped>\n",
       "    .dataframe tbody tr th:only-of-type {\n",
       "        vertical-align: middle;\n",
       "    }\n",
       "\n",
       "    .dataframe tbody tr th {\n",
       "        vertical-align: top;\n",
       "    }\n",
       "\n",
       "    .dataframe thead th {\n",
       "        text-align: right;\n",
       "    }\n",
       "</style>\n",
       "<table border=\"1\" class=\"dataframe\">\n",
       "  <thead>\n",
       "    <tr style=\"text-align: right;\">\n",
       "      <th></th>\n",
       "      <th>Unnamed: 0</th>\n",
       "      <th>user_id</th>\n",
       "      <th>user_gender</th>\n",
       "      <th>user_age</th>\n",
       "      <th>item_code</th>\n",
       "      <th>item_name</th>\n",
       "      <th>item_add_name</th>\n",
       "      <th>item_brand</th>\n",
       "      <th>category</th>\n",
       "      <th>sub1_category</th>\n",
       "      <th>sub2_category</th>\n",
       "      <th>buy_price</th>\n",
       "      <th>buy_count</th>\n",
       "    </tr>\n",
       "  </thead>\n",
       "  <tbody>\n",
       "    <tr>\n",
       "      <th>0</th>\n",
       "      <td>0</td>\n",
       "      <td>2391853</td>\n",
       "      <td>M</td>\n",
       "      <td>40</td>\n",
       "      <td>114</td>\n",
       "      <td>가고시마 현미흑초 720㎖</td>\n",
       "      <td>1개</td>\n",
       "      <td>가고시마</td>\n",
       "      <td>건강식품</td>\n",
       "      <td>영양제</td>\n",
       "      <td>기타영양제</td>\n",
       "      <td>43000</td>\n",
       "      <td>1</td>\n",
       "    </tr>\n",
       "    <tr>\n",
       "      <th>1</th>\n",
       "      <td>1</td>\n",
       "      <td>1799897</td>\n",
       "      <td>F</td>\n",
       "      <td>40</td>\n",
       "      <td>114</td>\n",
       "      <td>가고시마 현미흑초 720㎖</td>\n",
       "      <td>1개</td>\n",
       "      <td>가고시마</td>\n",
       "      <td>건강식품</td>\n",
       "      <td>영양제</td>\n",
       "      <td>기타영양제</td>\n",
       "      <td>43000</td>\n",
       "      <td>1</td>\n",
       "    </tr>\n",
       "    <tr>\n",
       "      <th>2</th>\n",
       "      <td>2</td>\n",
       "      <td>1614947</td>\n",
       "      <td>F</td>\n",
       "      <td>50</td>\n",
       "      <td>189</td>\n",
       "      <td>신가네여주농장 여주즙 100ml 50팩 1박스 청정지역철원재배생산</td>\n",
       "      <td>1개</td>\n",
       "      <td>신가네여주농장</td>\n",
       "      <td>건강식품</td>\n",
       "      <td>건강진액</td>\n",
       "      <td>채소즙</td>\n",
       "      <td>50000</td>\n",
       "      <td>1</td>\n",
       "    </tr>\n",
       "    <tr>\n",
       "      <th>3</th>\n",
       "      <td>3</td>\n",
       "      <td>1614947</td>\n",
       "      <td>F</td>\n",
       "      <td>50</td>\n",
       "      <td>189</td>\n",
       "      <td>신가네여주농장 여주즙 100ml 50팩 1박스 청정지역철원재배생산</td>\n",
       "      <td>1개</td>\n",
       "      <td>신가네여주농장</td>\n",
       "      <td>건강식품</td>\n",
       "      <td>건강진액</td>\n",
       "      <td>채소즙</td>\n",
       "      <td>50000</td>\n",
       "      <td>1</td>\n",
       "    </tr>\n",
       "    <tr>\n",
       "      <th>4</th>\n",
       "      <td>4</td>\n",
       "      <td>1614947</td>\n",
       "      <td>F</td>\n",
       "      <td>50</td>\n",
       "      <td>804126</td>\n",
       "      <td>새우볶음밥 270g</td>\n",
       "      <td>5개</td>\n",
       "      <td>천일냉동</td>\n",
       "      <td>냉동식품</td>\n",
       "      <td>냉동간편식</td>\n",
       "      <td>냉동밥</td>\n",
       "      <td>1990</td>\n",
       "      <td>5</td>\n",
       "    </tr>\n",
       "  </tbody>\n",
       "</table>\n",
       "</div>"
      ],
      "text/plain": [
       "   Unnamed: 0  user_id user_gender  user_age  item_code  \\\n",
       "0           0  2391853           M        40        114   \n",
       "1           1  1799897           F        40        114   \n",
       "2           2  1614947           F        50        189   \n",
       "3           3  1614947           F        50        189   \n",
       "4           4  1614947           F        50     804126   \n",
       "\n",
       "                              item_name item_add_name item_brand category  \\\n",
       "0                        가고시마 현미흑초 720㎖            1개       가고시마     건강식품   \n",
       "1                        가고시마 현미흑초 720㎖            1개       가고시마     건강식품   \n",
       "2  신가네여주농장 여주즙 100ml 50팩 1박스 청정지역철원재배생산            1개    신가네여주농장     건강식품   \n",
       "3  신가네여주농장 여주즙 100ml 50팩 1박스 청정지역철원재배생산            1개    신가네여주농장     건강식품   \n",
       "4                            새우볶음밥 270g            5개       천일냉동     냉동식품   \n",
       "\n",
       "  sub1_category sub2_category  buy_price  buy_count  \n",
       "0           영양제         기타영양제      43000          1  \n",
       "1           영양제         기타영양제      43000          1  \n",
       "2          건강진액           채소즙      50000          1  \n",
       "3          건강진액           채소즙      50000          1  \n",
       "4         냉동간편식           냉동밥       1990          5  "
      ]
     },
     "execution_count": 3,
     "metadata": {},
     "output_type": "execute_result"
    }
   ],
   "source": [
    "users.head(5)"
   ]
  },
  {
   "cell_type": "markdown",
   "metadata": {},
   "source": [
    "### gender 변환"
   ]
  },
  {
   "cell_type": "code",
   "execution_count": 4,
   "metadata": {},
   "outputs": [],
   "source": [
    "gender_mapping = {'M': 0, 'F': 1}\n",
    "users['gender'] = users['user_gender'].map(gender_mapping)"
   ]
  },
  {
   "cell_type": "code",
   "execution_count": 5,
   "metadata": {},
   "outputs": [
    {
     "data": {
      "text/html": [
       "<div>\n",
       "<style scoped>\n",
       "    .dataframe tbody tr th:only-of-type {\n",
       "        vertical-align: middle;\n",
       "    }\n",
       "\n",
       "    .dataframe tbody tr th {\n",
       "        vertical-align: top;\n",
       "    }\n",
       "\n",
       "    .dataframe thead th {\n",
       "        text-align: right;\n",
       "    }\n",
       "</style>\n",
       "<table border=\"1\" class=\"dataframe\">\n",
       "  <thead>\n",
       "    <tr style=\"text-align: right;\">\n",
       "      <th></th>\n",
       "      <th>Unnamed: 0</th>\n",
       "      <th>user_id</th>\n",
       "      <th>user_gender</th>\n",
       "      <th>user_age</th>\n",
       "      <th>item_code</th>\n",
       "      <th>item_name</th>\n",
       "      <th>item_add_name</th>\n",
       "      <th>item_brand</th>\n",
       "      <th>category</th>\n",
       "      <th>sub1_category</th>\n",
       "      <th>sub2_category</th>\n",
       "      <th>buy_price</th>\n",
       "      <th>buy_count</th>\n",
       "      <th>gender</th>\n",
       "    </tr>\n",
       "  </thead>\n",
       "  <tbody>\n",
       "    <tr>\n",
       "      <th>0</th>\n",
       "      <td>0</td>\n",
       "      <td>2391853</td>\n",
       "      <td>M</td>\n",
       "      <td>40</td>\n",
       "      <td>114</td>\n",
       "      <td>가고시마 현미흑초 720㎖</td>\n",
       "      <td>1개</td>\n",
       "      <td>가고시마</td>\n",
       "      <td>건강식품</td>\n",
       "      <td>영양제</td>\n",
       "      <td>기타영양제</td>\n",
       "      <td>43000</td>\n",
       "      <td>1</td>\n",
       "      <td>0</td>\n",
       "    </tr>\n",
       "    <tr>\n",
       "      <th>1</th>\n",
       "      <td>1</td>\n",
       "      <td>1799897</td>\n",
       "      <td>F</td>\n",
       "      <td>40</td>\n",
       "      <td>114</td>\n",
       "      <td>가고시마 현미흑초 720㎖</td>\n",
       "      <td>1개</td>\n",
       "      <td>가고시마</td>\n",
       "      <td>건강식품</td>\n",
       "      <td>영양제</td>\n",
       "      <td>기타영양제</td>\n",
       "      <td>43000</td>\n",
       "      <td>1</td>\n",
       "      <td>1</td>\n",
       "    </tr>\n",
       "    <tr>\n",
       "      <th>2</th>\n",
       "      <td>2</td>\n",
       "      <td>1614947</td>\n",
       "      <td>F</td>\n",
       "      <td>50</td>\n",
       "      <td>189</td>\n",
       "      <td>신가네여주농장 여주즙 100ml 50팩 1박스 청정지역철원재배생산</td>\n",
       "      <td>1개</td>\n",
       "      <td>신가네여주농장</td>\n",
       "      <td>건강식품</td>\n",
       "      <td>건강진액</td>\n",
       "      <td>채소즙</td>\n",
       "      <td>50000</td>\n",
       "      <td>1</td>\n",
       "      <td>1</td>\n",
       "    </tr>\n",
       "  </tbody>\n",
       "</table>\n",
       "</div>"
      ],
      "text/plain": [
       "   Unnamed: 0  user_id user_gender  user_age  item_code  \\\n",
       "0           0  2391853           M        40        114   \n",
       "1           1  1799897           F        40        114   \n",
       "2           2  1614947           F        50        189   \n",
       "\n",
       "                              item_name item_add_name item_brand category  \\\n",
       "0                        가고시마 현미흑초 720㎖            1개       가고시마     건강식품   \n",
       "1                        가고시마 현미흑초 720㎖            1개       가고시마     건강식품   \n",
       "2  신가네여주농장 여주즙 100ml 50팩 1박스 청정지역철원재배생산            1개    신가네여주농장     건강식품   \n",
       "\n",
       "  sub1_category sub2_category  buy_price  buy_count  gender  \n",
       "0           영양제         기타영양제      43000          1       0  \n",
       "1           영양제         기타영양제      43000          1       1  \n",
       "2          건강진액           채소즙      50000          1       1  "
      ]
     },
     "execution_count": 5,
     "metadata": {},
     "output_type": "execute_result"
    }
   ],
   "source": [
    "users.head(3)"
   ]
  },
  {
   "cell_type": "markdown",
   "metadata": {},
   "source": [
    "### age 변환"
   ]
  },
  {
   "cell_type": "code",
   "execution_count": 7,
   "metadata": {},
   "outputs": [],
   "source": [
    "import numpy as np\n",
    "\n",
    "bins = [1, 29, 39, 49, 59, np.inf]\n",
    "labels = ['Youth', 'Adult30', 'Adult40', 'Adult50', 'Senior']\n",
    "users['age_group'] = pd.cut(users['user_age'], bins, right = True, labels = labels)\n",
    "age_mapping = {\n",
    "    'Youth': 1,\n",
    "    'Adult30': 2,\n",
    "    'Adult40': 3,\n",
    "    'Adult50': 4,\n",
    "    'Senior': 5\n",
    "}\n",
    "\n",
    "users['age_group'] = users['age_group'].map(age_mapping)"
   ]
  },
  {
   "cell_type": "code",
   "execution_count": 8,
   "metadata": {},
   "outputs": [
    {
     "data": {
      "text/html": [
       "<div>\n",
       "<style scoped>\n",
       "    .dataframe tbody tr th:only-of-type {\n",
       "        vertical-align: middle;\n",
       "    }\n",
       "\n",
       "    .dataframe tbody tr th {\n",
       "        vertical-align: top;\n",
       "    }\n",
       "\n",
       "    .dataframe thead th {\n",
       "        text-align: right;\n",
       "    }\n",
       "</style>\n",
       "<table border=\"1\" class=\"dataframe\">\n",
       "  <thead>\n",
       "    <tr style=\"text-align: right;\">\n",
       "      <th></th>\n",
       "      <th>Unnamed: 0</th>\n",
       "      <th>user_id</th>\n",
       "      <th>user_gender</th>\n",
       "      <th>user_age</th>\n",
       "      <th>item_code</th>\n",
       "      <th>item_name</th>\n",
       "      <th>item_add_name</th>\n",
       "      <th>item_brand</th>\n",
       "      <th>category</th>\n",
       "      <th>sub1_category</th>\n",
       "      <th>sub2_category</th>\n",
       "      <th>buy_price</th>\n",
       "      <th>buy_count</th>\n",
       "      <th>gender</th>\n",
       "      <th>age_group</th>\n",
       "    </tr>\n",
       "  </thead>\n",
       "  <tbody>\n",
       "    <tr>\n",
       "      <th>0</th>\n",
       "      <td>0</td>\n",
       "      <td>2391853</td>\n",
       "      <td>M</td>\n",
       "      <td>40</td>\n",
       "      <td>114</td>\n",
       "      <td>가고시마 현미흑초 720㎖</td>\n",
       "      <td>1개</td>\n",
       "      <td>가고시마</td>\n",
       "      <td>건강식품</td>\n",
       "      <td>영양제</td>\n",
       "      <td>기타영양제</td>\n",
       "      <td>43000</td>\n",
       "      <td>1</td>\n",
       "      <td>0</td>\n",
       "      <td>3</td>\n",
       "    </tr>\n",
       "    <tr>\n",
       "      <th>1</th>\n",
       "      <td>1</td>\n",
       "      <td>1799897</td>\n",
       "      <td>F</td>\n",
       "      <td>40</td>\n",
       "      <td>114</td>\n",
       "      <td>가고시마 현미흑초 720㎖</td>\n",
       "      <td>1개</td>\n",
       "      <td>가고시마</td>\n",
       "      <td>건강식품</td>\n",
       "      <td>영양제</td>\n",
       "      <td>기타영양제</td>\n",
       "      <td>43000</td>\n",
       "      <td>1</td>\n",
       "      <td>1</td>\n",
       "      <td>3</td>\n",
       "    </tr>\n",
       "    <tr>\n",
       "      <th>2</th>\n",
       "      <td>2</td>\n",
       "      <td>1614947</td>\n",
       "      <td>F</td>\n",
       "      <td>50</td>\n",
       "      <td>189</td>\n",
       "      <td>신가네여주농장 여주즙 100ml 50팩 1박스 청정지역철원재배생산</td>\n",
       "      <td>1개</td>\n",
       "      <td>신가네여주농장</td>\n",
       "      <td>건강식품</td>\n",
       "      <td>건강진액</td>\n",
       "      <td>채소즙</td>\n",
       "      <td>50000</td>\n",
       "      <td>1</td>\n",
       "      <td>1</td>\n",
       "      <td>4</td>\n",
       "    </tr>\n",
       "  </tbody>\n",
       "</table>\n",
       "</div>"
      ],
      "text/plain": [
       "   Unnamed: 0  user_id user_gender  user_age  item_code  \\\n",
       "0           0  2391853           M        40        114   \n",
       "1           1  1799897           F        40        114   \n",
       "2           2  1614947           F        50        189   \n",
       "\n",
       "                              item_name item_add_name item_brand category  \\\n",
       "0                        가고시마 현미흑초 720㎖            1개       가고시마     건강식품   \n",
       "1                        가고시마 현미흑초 720㎖            1개       가고시마     건강식품   \n",
       "2  신가네여주농장 여주즙 100ml 50팩 1박스 청정지역철원재배생산            1개    신가네여주농장     건강식품   \n",
       "\n",
       "  sub1_category sub2_category  buy_price  buy_count  gender age_group  \n",
       "0           영양제         기타영양제      43000          1       0         3  \n",
       "1           영양제         기타영양제      43000          1       1         3  \n",
       "2          건강진액           채소즙      50000          1       1         4  "
      ]
     },
     "execution_count": 8,
     "metadata": {},
     "output_type": "execute_result"
    }
   ],
   "source": [
    "users.head(3)"
   ]
  },
  {
   "cell_type": "markdown",
   "metadata": {},
   "source": [
    "### 카테고리 수치화하기"
   ]
  },
  {
   "cell_type": "code",
   "execution_count": 9,
   "metadata": {},
   "outputs": [
    {
     "data": {
      "text/plain": [
       "건강식품    15428\n",
       "음료       7084\n",
       "축산물      4383\n",
       "냉동식품     4288\n",
       "과일       3549\n",
       "냉장식품     2141\n",
       "Name: category, dtype: int64"
      ]
     },
     "execution_count": 9,
     "metadata": {},
     "output_type": "execute_result"
    }
   ],
   "source": [
    "users['category'].value_counts()"
   ]
  },
  {
   "cell_type": "code",
   "execution_count": 10,
   "metadata": {},
   "outputs": [
    {
     "data": {
      "text/plain": [
       "영양제          8843\n",
       "생수           5670\n",
       "닭고기류         4351\n",
       "냉동간편식        4288\n",
       "홍삼/인삼가공식품    2692\n",
       "견과류          2163\n",
       "포장반찬         2141\n",
       "건강진액         2031\n",
       "건강보조식품       1862\n",
       "국산과일         1386\n",
       "두유            910\n",
       "기능성음료         504\n",
       "축산선물세트         32\n",
       "Name: sub1_category, dtype: int64"
      ]
     },
     "execution_count": 10,
     "metadata": {},
     "output_type": "execute_result"
    }
   ],
   "source": [
    "users['sub1_category'].value_counts()"
   ]
  },
  {
   "cell_type": "code",
   "execution_count": 11,
   "metadata": {},
   "outputs": [
    {
     "data": {
      "text/plain": [
       "생수           5663\n",
       "닭가슴살         4239\n",
       "일반비타민        2933\n",
       "기타냉동간편식      2823\n",
       "김치류          2045\n",
       "             ... \n",
       "닭윗날개(봉)         2\n",
       "닭아랫날개(윙)        1\n",
       "오리고기            1\n",
       "비타민/에너지음료       1\n",
       "볶음반찬            1\n",
       "Name: sub2_category, Length: 83, dtype: int64"
      ]
     },
     "execution_count": 11,
     "metadata": {},
     "output_type": "execute_result"
    }
   ],
   "source": [
    "users['sub2_category'].value_counts()"
   ]
  },
  {
   "cell_type": "code",
   "execution_count": 18,
   "metadata": {},
   "outputs": [],
   "source": [
    "from sklearn.preprocessing import LabelEncoder\n",
    "\n",
    "encoder = LabelEncoder()\n",
    "encoder.fit(users['category'])\n",
    "\n",
    "users['category'] = encoder.transform(users['category'])"
   ]
  },
  {
   "cell_type": "code",
   "execution_count": 21,
   "metadata": {},
   "outputs": [],
   "source": [
    "encoder = LabelEncoder()\n",
    "encoder.fit(users['sub1_category'])\n",
    "\n",
    "users['sub1_category'] = encoder.transform(users['sub1_category'])"
   ]
  },
  {
   "cell_type": "code",
   "execution_count": 23,
   "metadata": {},
   "outputs": [],
   "source": [
    "encoder = LabelEncoder()\n",
    "encoder.fit(users['sub2_category'])\n",
    "\n",
    "users['sub2_category'] = encoder.transform(users['sub2_category'])"
   ]
  },
  {
   "cell_type": "code",
   "execution_count": null,
   "metadata": {},
   "outputs": [],
   "source": []
  },
  {
   "cell_type": "markdown",
   "metadata": {},
   "source": [
    "### 상관관계"
   ]
  },
  {
   "cell_type": "code",
   "execution_count": 24,
   "metadata": {},
   "outputs": [
    {
     "data": {
      "image/png": "[encoded data removed]",
      "text/plain": [
       "<Figure size 720x720 with 4 Axes>"
      ]
     },
     "metadata": {
      "needs_background": "light"
     },
     "output_type": "display_data"
    }
   ],
   "source": [
    "import matplotlib.pyplot as plt\n",
    "import matplotlib.font_manager as fm\n",
    "import seaborn as sns\n",
    "\n",
    "def make_corr(data):\n",
    "    make_corr = data.corr()\n",
    "    sns.clustermap(make_corr, annot = True, cmap = 'RdYlBu_r', linewidths=.5, cbar_kws={\"shrink\": .5}, vmin = -1, vmax = 1)\n",
    "    plt.show()\n",
    "    \n",
    "    \n",
    "make_corr(users)"
   ]
  },
  {
   "cell_type": "code",
   "execution_count": null,
   "metadata": {},
   "outputs": [],
   "source": [
    "make_"
   ]
  }
 ],
 "metadata": {
  "kernelspec": {
   "display_name": "Python 3",
   "language": "python",
   "name": "python3"
  },
  "language_info": {
   "codemirror_mode": {
    "name": "ipython",
    "version": 3
   },
   "file_extension": ".py",
   "mimetype": "text/x-python",
   "name": "python",
   "nbconvert_exporter": "python",
   "pygments_lexer": "ipython3",
   "version": "3.7.6"
  }
 },
 "nbformat": 4,
 "nbformat_minor": 4
}
