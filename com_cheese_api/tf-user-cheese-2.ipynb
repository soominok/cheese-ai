{
 "cells": [
  {
   "cell_type": "code",
   "execution_count": 1,
   "metadata": {},
   "outputs": [],
   "source": [
    "import pandas as pd\n",
    "\n",
    "users = pd.read_csv(\"resources/data/user_dataset.csv\")"
   ]
  },
  {
   "cell_type": "code",
   "execution_count": 2,
   "metadata": {},
   "outputs": [
    {
     "data": {
      "text/html": [
       "<div>\n",
       "<style scoped>\n",
       "    .dataframe tbody tr th:only-of-type {\n",
       "        vertical-align: middle;\n",
       "    }\n",
       "\n",
       "    .dataframe tbody tr th {\n",
       "        vertical-align: top;\n",
       "    }\n",
       "\n",
       "    .dataframe thead th {\n",
       "        text-align: right;\n",
       "    }\n",
       "</style>\n",
       "<table border=\"1\" class=\"dataframe\">\n",
       "  <thead>\n",
       "    <tr style=\"text-align: right;\">\n",
       "      <th></th>\n",
       "      <th>user_no</th>\n",
       "      <th>user_id</th>\n",
       "      <th>user_gender</th>\n",
       "      <th>user_age</th>\n",
       "      <th>buy_count</th>\n",
       "      <th>cheese_rank</th>\n",
       "      <th>cheese_code</th>\n",
       "      <th>cheese_id</th>\n",
       "      <th>cheese_brand</th>\n",
       "      <th>cheese_name</th>\n",
       "      <th>cheese_texture</th>\n",
       "      <th>cheese_types</th>\n",
       "      <th>cheese_category</th>\n",
       "      <th>cheese_one_price</th>\n",
       "      <th>gender</th>\n",
       "      <th>age_group</th>\n",
       "      <th>cheese_category_code</th>\n",
       "      <th>cheese_texture_code</th>\n",
       "      <th>brand</th>\n",
       "      <th>brand_code</th>\n",
       "    </tr>\n",
       "  </thead>\n",
       "  <tbody>\n",
       "    <tr>\n",
       "      <th>0</th>\n",
       "      <td>0</td>\n",
       "      <td>2391853</td>\n",
       "      <td>M</td>\n",
       "      <td>40</td>\n",
       "      <td>1</td>\n",
       "      <td>8.0</td>\n",
       "      <td>8</td>\n",
       "      <td>p8</td>\n",
       "      <td>프란시아</td>\n",
       "      <td>리코타 치즈</td>\n",
       "      <td>후레쉬치즈</td>\n",
       "      <td>자연치즈</td>\n",
       "      <td>리코타</td>\n",
       "      <td>4,600원</td>\n",
       "      <td>0</td>\n",
       "      <td>3</td>\n",
       "      <td>3</td>\n",
       "      <td>1</td>\n",
       "      <td>프란시아</td>\n",
       "      <td>15</td>\n",
       "    </tr>\n",
       "    <tr>\n",
       "      <th>1</th>\n",
       "      <td>1</td>\n",
       "      <td>1799897</td>\n",
       "      <td>F</td>\n",
       "      <td>40</td>\n",
       "      <td>1</td>\n",
       "      <td>8.0</td>\n",
       "      <td>8</td>\n",
       "      <td>p8</td>\n",
       "      <td>프란시아</td>\n",
       "      <td>리코타 치즈</td>\n",
       "      <td>후레쉬치즈</td>\n",
       "      <td>자연치즈</td>\n",
       "      <td>리코타</td>\n",
       "      <td>4,600원</td>\n",
       "      <td>1</td>\n",
       "      <td>3</td>\n",
       "      <td>3</td>\n",
       "      <td>1</td>\n",
       "      <td>프란시아</td>\n",
       "      <td>15</td>\n",
       "    </tr>\n",
       "    <tr>\n",
       "      <th>2</th>\n",
       "      <td>2</td>\n",
       "      <td>1614947</td>\n",
       "      <td>F</td>\n",
       "      <td>50</td>\n",
       "      <td>1</td>\n",
       "      <td>10.0</td>\n",
       "      <td>10</td>\n",
       "      <td>p10</td>\n",
       "      <td>푸글리제</td>\n",
       "      <td>모짜렐라</td>\n",
       "      <td>후레쉬치즈</td>\n",
       "      <td>자연치즈</td>\n",
       "      <td>모짜렐라</td>\n",
       "      <td>5,500원</td>\n",
       "      <td>1</td>\n",
       "      <td>4</td>\n",
       "      <td>1</td>\n",
       "      <td>1</td>\n",
       "      <td>푸글리제</td>\n",
       "      <td>30</td>\n",
       "    </tr>\n",
       "    <tr>\n",
       "      <th>3</th>\n",
       "      <td>3</td>\n",
       "      <td>1614947</td>\n",
       "      <td>F</td>\n",
       "      <td>50</td>\n",
       "      <td>1</td>\n",
       "      <td>10.0</td>\n",
       "      <td>10</td>\n",
       "      <td>p10</td>\n",
       "      <td>푸글리제</td>\n",
       "      <td>모짜렐라</td>\n",
       "      <td>후레쉬치즈</td>\n",
       "      <td>자연치즈</td>\n",
       "      <td>모짜렐라</td>\n",
       "      <td>5,500원</td>\n",
       "      <td>1</td>\n",
       "      <td>4</td>\n",
       "      <td>1</td>\n",
       "      <td>1</td>\n",
       "      <td>푸글리제</td>\n",
       "      <td>30</td>\n",
       "    </tr>\n",
       "    <tr>\n",
       "      <th>4</th>\n",
       "      <td>4</td>\n",
       "      <td>1614947</td>\n",
       "      <td>F</td>\n",
       "      <td>50</td>\n",
       "      <td>5</td>\n",
       "      <td>14.0</td>\n",
       "      <td>15</td>\n",
       "      <td>p14</td>\n",
       "      <td>콜롬보</td>\n",
       "      <td>모짜렐라</td>\n",
       "      <td>후레쉬치즈</td>\n",
       "      <td>자연치즈</td>\n",
       "      <td>모짜렐라</td>\n",
       "      <td>4,900원</td>\n",
       "      <td>1</td>\n",
       "      <td>4</td>\n",
       "      <td>1</td>\n",
       "      <td>1</td>\n",
       "      <td>콜롬보</td>\n",
       "      <td>28</td>\n",
       "    </tr>\n",
       "  </tbody>\n",
       "</table>\n",
       "</div>"
      ],
      "text/plain": [
       "   user_no  user_id user_gender  user_age  buy_count  cheese_rank  \\\n",
       "0        0  2391853           M        40          1          8.0   \n",
       "1        1  1799897           F        40          1          8.0   \n",
       "2        2  1614947           F        50          1         10.0   \n",
       "3        3  1614947           F        50          1         10.0   \n",
       "4        4  1614947           F        50          5         14.0   \n",
       "\n",
       "   cheese_code cheese_id cheese_brand cheese_name cheese_texture cheese_types  \\\n",
       "0            8        p8         프란시아      리코타 치즈          후레쉬치즈         자연치즈   \n",
       "1            8        p8         프란시아      리코타 치즈          후레쉬치즈         자연치즈   \n",
       "2           10       p10         푸글리제        모짜렐라          후레쉬치즈         자연치즈   \n",
       "3           10       p10         푸글리제        모짜렐라          후레쉬치즈         자연치즈   \n",
       "4           15       p14          콜롬보        모짜렐라          후레쉬치즈         자연치즈   \n",
       "\n",
       "  cheese_category cheese_one_price  gender  age_group  cheese_category_code  \\\n",
       "0             리코타           4,600원       0          3                     3   \n",
       "1             리코타           4,600원       1          3                     3   \n",
       "2            모짜렐라           5,500원       1          4                     1   \n",
       "3            모짜렐라           5,500원       1          4                     1   \n",
       "4            모짜렐라           4,900원       1          4                     1   \n",
       "\n",
       "   cheese_texture_code brand  brand_code  \n",
       "0                    1  프란시아          15  \n",
       "1                    1  프란시아          15  \n",
       "2                    1  푸글리제          30  \n",
       "3                    1  푸글리제          30  \n",
       "4                    1   콜롬보          28  "
      ]
     },
     "execution_count": 2,
     "metadata": {},
     "output_type": "execute_result"
    }
   ],
   "source": [
    "users.head(5)"
   ]
  },
  {
   "cell_type": "code",
   "execution_count": 3,
   "metadata": {},
   "outputs": [],
   "source": [
    "# user_X_train_set = user_X_train.drop('user_id', axis = 1)\n",
    "users['cheese_id'] = users['cheese_id'].str.replace('p','')\n",
    "users['cheese_one_price'] = users['cheese_one_price'].str.replace(',', '')\n",
    "users['cheese_one_price'] = users['cheese_one_price'].str.replace('원', '')\n",
    "users = users.astype({'cheese_one_price': int})\n",
    "\n",
    "# user_X_trian_set = user_X_train_set.astype({'cheese_one_price': int})"
   ]
  },
  {
   "cell_type": "markdown",
   "metadata": {},
   "source": [
    "## Train, Test 데이터 셋 만들기"
   ]
  },
  {
   "cell_type": "code",
   "execution_count": 4,
   "metadata": {},
   "outputs": [],
   "source": [
    "from sklearn.model_selection import train_test_split\n",
    "\n",
    "X_user = users[['user_age', 'gender', 'buy_count', 'cheese_rank', 'cheese_texture_code', 'brand_code', 'cheese_one_price']]\n",
    "y_user = users[['cheese_category_code']]\n",
    "\n",
    "X_user_train, X_user_test, y_user_train, y_user_test = train_test_split(X_user, y_user, test_size = 0.3, random_state = 32)"
   ]
  },
  {
   "cell_type": "code",
   "execution_count": null,
   "metadata": {},
   "outputs": [],
   "source": []
  },
  {
   "cell_type": "code",
   "execution_count": 5,
   "metadata": {},
   "outputs": [
    {
     "name": "stdout",
     "output_type": "stream",
     "text": [
      "[[-0.58733941  0.42761125 -0.01216164 ... -0.48303349 -0.48402246\n",
      "  -0.85734486]\n",
      " [-0.58733941  0.42761125 -0.01216164 ... -0.48303349 -0.48402246\n",
      "  -0.85734486]\n",
      " [ 1.74261025  0.42761125 -0.26129191 ... -0.48303349  0.73833953\n",
      "  -0.07477204]\n",
      " ...\n",
      " [-0.58733941  0.42761125  0.23696863 ...  0.57380955  1.96070152\n",
      "  -0.43072489]\n",
      " [-0.58733941  0.42761125 -0.26129191 ... -0.48303349 -1.04818953\n",
      "   0.64236827]\n",
      " [ 1.74261025  0.42761125 -0.26129191 ...  0.57380955  1.96070152\n",
      "  -0.43072489]]\n"
     ]
    }
   ],
   "source": [
    "# std 바꿔서 fitting\n",
    "\n",
    "import sklearn.svm as svm\n",
    "import sklearn.metrics as mt\n",
    "from sklearn.model_selection import cross_val_score, cross_validate\n",
    "from sklearn.preprocessing import StandardScaler\n",
    "\n",
    "# 표준화\n",
    "std = StandardScaler()\n",
    "# std.fit(X_train)\n",
    "\n",
    "X_user_train_std = std.fit_transform(X_user_train)\n",
    "X_user_test_std = std.transform(X_user_test)\n",
    "print(X_user_train_std)\n"
   ]
  },
  {
   "cell_type": "code",
   "execution_count": null,
   "metadata": {},
   "outputs": [],
   "source": []
  },
  {
   "cell_type": "code",
   "execution_count": 6,
   "metadata": {},
   "outputs": [
    {
     "name": "stdout",
     "output_type": "stream",
     "text": [
      "[[0.33333333 1.         0.00840336 ... 0.         0.34146341 0.        ]\n",
      " [0.33333333 1.         0.00840336 ... 0.         0.34146341 0.        ]\n",
      " [0.66666667 1.         0.         ... 0.         0.65853659 0.2485453 ]\n",
      " ...\n",
      " [0.33333333 1.         0.01680672 ... 0.2        0.97560976 0.1354946 ]\n",
      " [0.33333333 1.         0.         ... 0.         0.19512195 0.47630923]\n",
      " [0.66666667 1.         0.         ... 0.2        0.97560976 0.1354946 ]]\n"
     ]
    }
   ],
   "source": [
    "from sklearn.preprocessing import MinMaxScaler\n",
    "\n",
    "ns = MinMaxScaler()\n",
    "ns.fit(X_user_train)\n",
    "\n",
    "X_user_train_ns = ns.transform(X_user_train)\n",
    "X_user_test_ns = ns.transform(X_user_test)\n",
    "print(X_user_train_ns)"
   ]
  },
  {
   "cell_type": "code",
   "execution_count": null,
   "metadata": {},
   "outputs": [],
   "source": []
  },
  {
   "cell_type": "code",
   "execution_count": 8,
   "metadata": {},
   "outputs": [
    {
     "name": "stderr",
     "output_type": "stream",
     "text": [
      "/home/bitai/anaconda3/envs/cheese-ai/lib/python3.7/site-packages/ipykernel_launcher.py:5: DataConversionWarning: A column-vector y was passed when a 1d array was expected. Please change the shape of y to (n_samples,), for example using ravel().\n",
      "  \"\"\"\n"
     ]
    },
    {
     "name": "stdout",
     "output_type": "stream",
     "text": [
      "[ 1  1  5 ...  1  1 11]\n",
      "정확도 :  0.9996384017356716\n",
      "특성 중요도: \n",
      "[0.00271529 0.00078586 0.00717357 0.35812326 0.17081001 0.17562203\n",
      " 0.28476999]\n"
     ]
    }
   ],
   "source": [
    "from sklearn.ensemble import RandomForestClassifier\n",
    "from sklearn import metrics\n",
    "\n",
    "forest = RandomForestClassifier(n_estimators=100)\n",
    "forest.fit(X_user_train, y_user_train)\n",
    "\n",
    "# 예측\n",
    "y_pred = forest.predict(X_user_test)\n",
    "print(y_pred)\n",
    "# print(list(y_test))\n",
    "\n",
    "print('정확도 : ', metrics.accuracy_score(y_user_test, y_pred))\n",
    "\n",
    "print(\"특성 중요도: \\n{}\".format(forest.feature_importances_))"
   ]
  },
  {
   "cell_type": "code",
   "execution_count": null,
   "metadata": {},
   "outputs": [],
   "source": []
  },
  {
   "cell_type": "code",
   "execution_count": 9,
   "metadata": {},
   "outputs": [],
   "source": [
    "from sklearn.model_selection import train_test_split\n",
    "\n",
    "X_user_2 = users[['buy_count', 'cheese_rank', 'cheese_texture_code', 'brand_code', 'cheese_one_price']]\n",
    "y_user_2 = users[['cheese_category_code']]\n",
    "\n",
    "X_user_train, X_user_test, y_user_train, y_user_test = train_test_split(X_user_2, y_user_2, test_size = 0.3, random_state = 32)"
   ]
  },
  {
   "cell_type": "code",
   "execution_count": 10,
   "metadata": {},
   "outputs": [
    {
     "name": "stderr",
     "output_type": "stream",
     "text": [
      "/home/bitai/anaconda3/envs/cheese-ai/lib/python3.7/site-packages/ipykernel_launcher.py:5: DataConversionWarning: A column-vector y was passed when a 1d array was expected. Please change the shape of y to (n_samples,), for example using ravel().\n",
      "  \"\"\"\n"
     ]
    },
    {
     "name": "stdout",
     "output_type": "stream",
     "text": [
      "[ 1  1  5 ...  1  1 11]\n",
      "정확도 :  1.0\n",
      "특성 중요도: \n",
      "[0.00335012 0.38205243 0.19814272 0.15837354 0.25808119]\n"
     ]
    }
   ],
   "source": [
    "from sklearn.ensemble import RandomForestClassifier\n",
    "from sklearn import metrics\n",
    "\n",
    "forest = RandomForestClassifier(n_estimators=100)\n",
    "forest.fit(X_user_train, y_user_train)\n",
    "\n",
    "# 예측\n",
    "y_pred = forest.predict(X_user_test)\n",
    "print(y_pred)\n",
    "# print(list(y_test))\n",
    "\n",
    "print('정확도 : ', metrics.accuracy_score(y_user_test, y_pred))\n",
    "\n",
    "print(\"특성 중요도: \\n{}\".format(forest.feature_importances_))"
   ]
  },
  {
   "cell_type": "code",
   "execution_count": null,
   "metadata": {},
   "outputs": [],
   "source": []
  },
  {
   "cell_type": "markdown",
   "metadata": {},
   "source": [
    "## 텐서플로우 - 다항 로지스틱 회귀분석"
   ]
  },
  {
   "cell_type": "markdown",
   "metadata": {},
   "source": [
    "### y값 OHE로 바꾸고 다시 모델링 학습하기"
   ]
  },
  {
   "cell_type": "code",
   "execution_count": 11,
   "metadata": {},
   "outputs": [],
   "source": [
    "import pandas as pd\n",
    "\n",
    "y_user_train_ohe = pd.get_dummies(y_user_train['cheese_category_code'])\n",
    "y_user_test_ohe = pd.get_dummies(y_user_test['cheese_category_code'])"
   ]
  },
  {
   "cell_type": "code",
   "execution_count": 12,
   "metadata": {},
   "outputs": [
    {
     "data": {
      "text/html": [
       "<div>\n",
       "<style scoped>\n",
       "    .dataframe tbody tr th:only-of-type {\n",
       "        vertical-align: middle;\n",
       "    }\n",
       "\n",
       "    .dataframe tbody tr th {\n",
       "        vertical-align: top;\n",
       "    }\n",
       "\n",
       "    .dataframe thead th {\n",
       "        text-align: right;\n",
       "    }\n",
       "</style>\n",
       "<table border=\"1\" class=\"dataframe\">\n",
       "  <thead>\n",
       "    <tr style=\"text-align: right;\">\n",
       "      <th></th>\n",
       "      <th>1</th>\n",
       "      <th>2</th>\n",
       "      <th>3</th>\n",
       "      <th>4</th>\n",
       "      <th>5</th>\n",
       "      <th>6</th>\n",
       "      <th>7</th>\n",
       "      <th>8</th>\n",
       "      <th>9</th>\n",
       "      <th>10</th>\n",
       "      <th>11</th>\n",
       "    </tr>\n",
       "  </thead>\n",
       "  <tbody>\n",
       "    <tr>\n",
       "      <th>3312</th>\n",
       "      <td>1</td>\n",
       "      <td>0</td>\n",
       "      <td>0</td>\n",
       "      <td>0</td>\n",
       "      <td>0</td>\n",
       "      <td>0</td>\n",
       "      <td>0</td>\n",
       "      <td>0</td>\n",
       "      <td>0</td>\n",
       "      <td>0</td>\n",
       "      <td>0</td>\n",
       "    </tr>\n",
       "    <tr>\n",
       "      <th>21971</th>\n",
       "      <td>1</td>\n",
       "      <td>0</td>\n",
       "      <td>0</td>\n",
       "      <td>0</td>\n",
       "      <td>0</td>\n",
       "      <td>0</td>\n",
       "      <td>0</td>\n",
       "      <td>0</td>\n",
       "      <td>0</td>\n",
       "      <td>0</td>\n",
       "      <td>0</td>\n",
       "    </tr>\n",
       "    <tr>\n",
       "      <th>2347</th>\n",
       "      <td>0</td>\n",
       "      <td>0</td>\n",
       "      <td>1</td>\n",
       "      <td>0</td>\n",
       "      <td>0</td>\n",
       "      <td>0</td>\n",
       "      <td>0</td>\n",
       "      <td>0</td>\n",
       "      <td>0</td>\n",
       "      <td>0</td>\n",
       "      <td>0</td>\n",
       "    </tr>\n",
       "  </tbody>\n",
       "</table>\n",
       "</div>"
      ],
      "text/plain": [
       "       1   2   3   4   5   6   7   8   9   10  11\n",
       "3312    1   0   0   0   0   0   0   0   0   0   0\n",
       "21971   1   0   0   0   0   0   0   0   0   0   0\n",
       "2347    0   0   1   0   0   0   0   0   0   0   0"
      ]
     },
     "execution_count": 12,
     "metadata": {},
     "output_type": "execute_result"
    }
   ],
   "source": [
    "y_user_train_ohe.head(3)"
   ]
  },
  {
   "cell_type": "code",
   "execution_count": 18,
   "metadata": {},
   "outputs": [],
   "source": [
    "import tensorflow.compat.v1 as tf\n",
    "\n",
    "# 변수 정의\n",
    "with tf.Session() as sess:\n",
    "    x = tf.placeholder(tf.float32, shape = [None, 7])\n",
    "    y = tf.placeholder(tf.float32, shape = [None, 11])\n",
    "\n",
    "    nb_classes = 11\n",
    "\n",
    "    w = tf.Variable(tf.random_normal([7, 11]))\n",
    "    b = tf.Variable(tf.random_normal([11]))\n",
    "    \n",
    "    hf = tf.nn.sotfmax((tf.matmul(x, w) + b))\n",
    "    cost = tf.reduce_mean( - tf.reduce_sum(y * tf.log(hf), axis = 1))\n",
    "    \n",
    "    #모델 생성\n",
    "    opt = tf.train.GradientDescentOptimizer(0.1).minimize(cost)\n",
    "    \n",
    "    sess.run(tf.global_variables_initializer())\n",
    "    for step in range(10001):\n",
    "        cv = sess.run([opt,cost], feed_dict = {x:x_data, y:y_data})\n",
    "        if step %1000==0:\n",
    "            "
   ]
  },
  {
   "cell_type": "code",
   "execution_count": null,
   "metadata": {},
   "outputs": [],
   "source": []
  }
 ],
 "metadata": {
  "kernelspec": {
   "display_name": "Python 3",
   "language": "python",
   "name": "python3"
  },
  "language_info": {
   "codemirror_mode": {
    "name": "ipython",
    "version": 3
   },
   "file_extension": ".py",
   "mimetype": "text/x-python",
   "name": "python",
   "nbconvert_exporter": "python",
   "pygments_lexer": "ipython3",
   "version": "3.7.6"
  }
 },
 "nbformat": 4,
 "nbformat_minor": 4
}
